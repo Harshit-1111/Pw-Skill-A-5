{
 "cells": [
  {
   "cell_type": "code",
   "execution_count": 5,
   "id": "0181842d-01a7-4d0d-91a0-e1665bdf1753",
   "metadata": {},
   "outputs": [],
   "source": [
    "'''Create a vehicle class with an init method having instance variables as name_of_vehicle, max_speed\n",
    "and average_of_vehicle.'''\n",
    "\n",
    "\n",
    "class vehicle:\n",
    "    \n",
    "    def __init__(self, name,speed,avg):\n",
    "        self.name_of_vehicle = name\n",
    "        self.max_speed = speed\n",
    "        self.average_of_vehicle = avg\n",
    "        \n",
    "    def details(Self):\n",
    "        return self.name_of_vehicle,self.max_speed,self.average_of_vehicle"
   ]
  },
  {
   "cell_type": "code",
   "execution_count": 3,
   "id": "b9519295-8ce5-4ee8-a1b0-3ccc0c9229b4",
   "metadata": {},
   "outputs": [],
   "source": [
    "v = vehicle(\"tvs\",150,55)"
   ]
  },
  {
   "cell_type": "code",
   "execution_count": 6,
   "id": "f391a7b3-b3cd-43eb-9fdd-fcb6183f5381",
   "metadata": {},
   "outputs": [
    {
     "data": {
      "text/plain": [
       "'tvs'"
      ]
     },
     "execution_count": 6,
     "metadata": {},
     "output_type": "execute_result"
    }
   ],
   "source": [
    "v.name_of_vehicle"
   ]
  },
  {
   "cell_type": "code",
   "execution_count": 7,
   "id": "519317e4-3ed5-408c-8110-91ebc2b387f4",
   "metadata": {},
   "outputs": [
    {
     "data": {
      "text/plain": [
       "150"
      ]
     },
     "execution_count": 7,
     "metadata": {},
     "output_type": "execute_result"
    }
   ],
   "source": [
    "v.max_speed"
   ]
  },
  {
   "cell_type": "code",
   "execution_count": 9,
   "id": "2cebb487-b387-45fb-afa4-b968e99fb512",
   "metadata": {},
   "outputs": [
    {
     "data": {
      "text/plain": [
       "55"
      ]
     },
     "execution_count": 9,
     "metadata": {},
     "output_type": "execute_result"
    }
   ],
   "source": [
    "v.average_of_vehicle"
   ]
  },
  {
   "cell_type": "code",
   "execution_count": 23,
   "id": "f0a7f8d3-f179-4d59-a4ee-628988cad51f",
   "metadata": {},
   "outputs": [
    {
     "name": "stdout",
     "output_type": "stream",
     "text": [
      "('Sedan', 120, 30)\n",
      "('Sedan', 5)\n"
     ]
    }
   ],
   "source": [
    "'''Q2. Create a child class car from the vehicle class created in Que 1, which will inherit the vehicle class.\n",
    "Create a method named seating_capacity which takes capacity as an argument and returns the name of\n",
    "the vehicle and its seating capacity.'''\n",
    "\n",
    "\n",
    "class Vehicle:\n",
    "    \n",
    "    def __init__(self, name, speed, avg):\n",
    "        self.name_of_vehicle = name\n",
    "        self.max_speed = speed\n",
    "        self.average_of_vehicle = avg\n",
    "        \n",
    "    def details(self):\n",
    "        return self.name_of_vehicle, self.max_speed, self.average_of_vehicle\n",
    "\n",
    "class Car(Vehicle):\n",
    "    \n",
    "    def seating_capacity(self, capacity):\n",
    "        return self.name_of_vehicle, capacity\n",
    "\n",
    "\n",
    "my_car = Car(\"Sedan\", 120, 30)\n",
    "\n",
    "\n",
    "print(my_car.details())\n",
    "\n",
    "\n",
    "print(my_car.seating_capacity(5))"
   ]
  },
  {
   "cell_type": "code",
   "execution_count": null,
   "id": "9a72958f-b5ec-41ab-a1b8-1f4385c28ca8",
   "metadata": {},
   "outputs": [],
   "source": [
    "'''Q3. What is multiple inheritance? Write a python code to demonstrate multiple inheritance.'''\n",
    "\n",
    "When a class is derived from more than one base class it is called multiple Inheritance. \n",
    "The derived class inherits all the features of the base case."
   ]
  },
  {
   "cell_type": "code",
   "execution_count": 1,
   "id": "b0e5a3df-28aa-4e48-aa11-edde8c312c77",
   "metadata": {},
   "outputs": [],
   "source": [
    "class class1:\n",
    "    \n",
    "    def test_class1(self):\n",
    "        return \"Hello\""
   ]
  },
  {
   "cell_type": "code",
   "execution_count": 2,
   "id": "00e0ba7b-e682-486b-bcbb-1bdb9bcfd35c",
   "metadata": {},
   "outputs": [],
   "source": [
    "class class2:\n",
    "    \n",
    "    def test_class2(self):\n",
    "        return \"harshit\""
   ]
  },
  {
   "cell_type": "code",
   "execution_count": 5,
   "id": "ddd9de8d-be1d-48aa-a6c2-c92a7ddc07b4",
   "metadata": {},
   "outputs": [],
   "source": [
    "class class3(class1,class2):\n",
    "    pass"
   ]
  },
  {
   "cell_type": "code",
   "execution_count": 6,
   "id": "e38986a0-413e-44b0-8ce4-cf4b33ddf3d8",
   "metadata": {},
   "outputs": [],
   "source": [
    "obj_class3 = class3()"
   ]
  },
  {
   "cell_type": "code",
   "execution_count": 7,
   "id": "f944baab-7cc9-476b-b261-b295dddb6469",
   "metadata": {},
   "outputs": [
    {
     "data": {
      "text/plain": [
       "'Hello'"
      ]
     },
     "execution_count": 7,
     "metadata": {},
     "output_type": "execute_result"
    }
   ],
   "source": [
    "obj_class3.test_class1()"
   ]
  },
  {
   "cell_type": "code",
   "execution_count": 8,
   "id": "7f3590ab-ca0b-4ab4-b68a-99a695cdd89b",
   "metadata": {},
   "outputs": [
    {
     "data": {
      "text/plain": [
       "'harshit'"
      ]
     },
     "execution_count": 8,
     "metadata": {},
     "output_type": "execute_result"
    }
   ],
   "source": [
    "obj_class3.test_class2()"
   ]
  },
  {
   "cell_type": "code",
   "execution_count": 17,
   "id": "28205c40-e729-45a5-bd42-058ab1e6e2bc",
   "metadata": {},
   "outputs": [],
   "source": [
    "'''Q4. What are getter and setter in python? Create a class and create a getter and a setter method in this\n",
    "class.'''\n",
    "\n",
    "class bank_account:\n",
    "    \n",
    "    def __init__(self,balance):\n",
    "        self.__balance = balance\n",
    "        \n",
    "    def deposit(self,amount):\n",
    "        self.__balance = self.__balance + amount\n",
    "        \n",
    "    def withdraw(self,amount):\n",
    "        if self.__balance >= amount:\n",
    "            self.__balance = self.__balance - amount\n",
    "            return True\n",
    "        else :\n",
    "            return False\n",
    "        \n",
    "    def get_balance(self):\n",
    "        return self.__balance"
   ]
  },
  {
   "cell_type": "code",
   "execution_count": 18,
   "id": "c1bfcd74-0425-4aa3-8f4a-1231945f7a03",
   "metadata": {},
   "outputs": [],
   "source": [
    "Harshit= bank_account(5000)"
   ]
  },
  {
   "cell_type": "code",
   "execution_count": 19,
   "id": "f8ceacf3-7847-4d1e-9eb6-b2cfae5b5014",
   "metadata": {},
   "outputs": [
    {
     "data": {
      "text/plain": [
       "5000"
      ]
     },
     "execution_count": 19,
     "metadata": {},
     "output_type": "execute_result"
    }
   ],
   "source": [
    "Harshit.get_balance()"
   ]
  },
  {
   "cell_type": "code",
   "execution_count": null,
   "id": "67757e37-2aa6-46ab-9a56-2eae0a8b4bf6",
   "metadata": {},
   "outputs": [],
   "source": [
    "getters and setters are methods used to access and modify the attributes of a class in a controlled way"
   ]
  },
  {
   "cell_type": "code",
   "execution_count": 20,
   "id": "9d265f8d-042a-4730-9acd-51a8a43c5603",
   "metadata": {},
   "outputs": [
    {
     "name": "stdout",
     "output_type": "stream",
     "text": [
      "Animal speaks generic sounds\n",
      "Dog barks\n",
      "Cat meows\n",
      "Animal speaks generic sounds\n"
     ]
    }
   ],
   "source": [
    "'''Q5.What is method overriding in python? Write a python code to demonstrate method overriding.'''\n",
    "class Animal:\n",
    "    def speak(self):\n",
    "        print(\"Animal speaks generic sounds\")\n",
    "\n",
    "class Dog(Animal):\n",
    "    def speak(self):\n",
    "        print(\"Dog barks\")\n",
    "\n",
    "class Cat(Animal):\n",
    "    def speak(self):\n",
    "        print(\"Cat meows\")\n",
    "\n",
    "class Cow(Animal):\n",
    "    pass\n",
    "\n",
    "animal = Animal()\n",
    "dog = Dog()\n",
    "cat = Cat()\n",
    "cow = Cow()\n",
    "\n",
    "animal.speak()  \n",
    "dog.speak()    \n",
    "cat.speak()    \n",
    "cow.speak()     \n"
   ]
  },
  {
   "cell_type": "code",
   "execution_count": null,
   "id": "d345f207-e0ab-4b04-b8fd-d5d63e54ce60",
   "metadata": {},
   "outputs": [],
   "source": [
    "Method overriding is a concept in object-oriented programming where a subclass provides a specific implementation for a method\n",
    "that is already defined in its superclass. When a method in the subclass has the same name, parameters, and return type as a method in the superclass, it is said to override the superclass method. Method overriding allows you to provide a specialized behavior for a method in a subclass while maintaining the same method signature."
   ]
  },
  {
   "cell_type": "code",
   "execution_count": null,
   "id": "55f52f6b-547a-42a0-b2b1-705f0c88a639",
   "metadata": {},
   "outputs": [],
   "source": []
  },
  {
   "cell_type": "code",
   "execution_count": null,
   "id": "9c75b67d-f2f0-4eb7-a8db-b18cfe283b4f",
   "metadata": {},
   "outputs": [],
   "source": []
  },
  {
   "cell_type": "code",
   "execution_count": null,
   "id": "77281660-89d8-42aa-beb5-09d6ffd74840",
   "metadata": {},
   "outputs": [],
   "source": []
  },
  {
   "cell_type": "code",
   "execution_count": null,
   "id": "97d8003e-22ae-423b-a978-8b0009cc1a64",
   "metadata": {},
   "outputs": [],
   "source": []
  },
  {
   "cell_type": "code",
   "execution_count": null,
   "id": "abbd068f-f4d5-4151-8411-33062495229f",
   "metadata": {},
   "outputs": [],
   "source": []
  },
  {
   "cell_type": "code",
   "execution_count": null,
   "id": "c85706a2-5ef1-4b8f-89e2-0662a597d47f",
   "metadata": {},
   "outputs": [],
   "source": []
  },
  {
   "cell_type": "code",
   "execution_count": null,
   "id": "5d3ddbdb-97de-4d7c-bd58-baa08ea5b68a",
   "metadata": {},
   "outputs": [],
   "source": []
  },
  {
   "cell_type": "code",
   "execution_count": null,
   "id": "4327373d-d652-4bc8-b33f-3821d4c53792",
   "metadata": {},
   "outputs": [],
   "source": []
  },
  {
   "cell_type": "code",
   "execution_count": null,
   "id": "27927984-0389-415d-bf30-0ba990a19908",
   "metadata": {},
   "outputs": [],
   "source": []
  }
 ],
 "metadata": {
  "kernelspec": {
   "display_name": "Python 3 (ipykernel)",
   "language": "python",
   "name": "python3"
  },
  "language_info": {
   "codemirror_mode": {
    "name": "ipython",
    "version": 3
   },
   "file_extension": ".py",
   "mimetype": "text/x-python",
   "name": "python",
   "nbconvert_exporter": "python",
   "pygments_lexer": "ipython3",
   "version": "3.10.8"
  }
 },
 "nbformat": 4,
 "nbformat_minor": 5
}
